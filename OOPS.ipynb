{
  "metadata": {
    "kernelspec": {
      "name": "python",
      "display_name": "Python (Pyodide)",
      "language": "python"
    },
    "language_info": {
      "codemirror_mode": {
        "name": "python",
        "version": 3
      },
      "file_extension": ".py",
      "mimetype": "text/x-python",
      "name": "python",
      "nbconvert_exporter": "python",
      "pygments_lexer": "ipython3",
      "version": "3.8"
    }
  },
  "nbformat_minor": 4,
  "nbformat": 4,
  "cells": [
    {
      "cell_type": "code",
      "source": "# Q1 . What are the five key concepts of Object-Oriented Programming (OOP) in short.\n\n# Ans1 The five key concepts of Object-Oriented Programming (OOP) are\n\n1.Encapsulation: Bundling data (variables) and methods (functions) that operate on the data into a single unit, or class. It restricts direct access to some of an object’s components, protecting the integrity of the data.\n\n2.Abstraction:Hiding the internal details and showing the functionality to user is called as abstraction.\n\n3.Inheritance: Creating a new class from an existing class. Inheriting the properties and behavious of parent class is called inheritence.\n\n4.Polymorphism: The ability of different objects to respond to the same method call in different ways, typically through method overriding (runtime) or method overloading (compile-time).\n\n5.Association (Composition & Aggregation): Defining relationships between objects. Composition means one object owns another, while Aggregation indicates a relationship where one object is part of another without ownership.",
      "metadata": {
        "trusted": true
      },
      "outputs": [],
      "execution_count": null
    },
    {
      "cell_type": "code",
      "source": "\n#Q2 Write a Python class for a `Car` with attributes for `make`, `model`, and `year`. Include a method to display the car's information.\n\n# Ans. class Car:\n    def __init__(self, make, model, year):\n        self.make = make\n        self.model = model\n        self.year = year\n\n    def display_info(self):\n        print(f\"Car: the year make{self.year} and {self.make} and the model{self.model}\")\n\ncar = Car(\"Toyota\", \"BMW\", 2020)\ncar.display_info()\n",
      "metadata": {
        "trusted": true
      },
      "outputs": [],
      "execution_count": null
    },
    {
      "cell_type": "code",
      "source": "\n#Q3  Explain the difference between instance methods and class methods. Provide an example of each.\n\n# Ans \n# Instance Method: Can access instance-specific data.Defined using def method(self).\n# Class Method: Works with class-level data, shared across instances.Defined using @classmethod and def method(cls)\n\n# Example\n\nclass Example:\n    class_var = 0\n\n    # Instance method\n    def instance_method(self):\n        return f\"Instance method called by {self}\"\n\n    # Class method\n    @classmethod\n    def class_method(cls):\n        return f\"Class method called. Class var: {cls.class_var}\"\n\nobj = Example()\nprint(obj.instance_method())      \nprint(Example.class_method())     \n",
      "metadata": {
        "trusted": true
      },
      "outputs": [
        {
          "name": "stdout",
          "text": "Instance method called by <__main__.Example object at 0x2200810>\nClass method called. Class var: 0\n",
          "output_type": "stream"
        }
      ],
      "execution_count": 6
    },
    {
      "cell_type": "code",
      "source": "#Q4 How does Python implement method overloading? Give an example.\n\n# Ans: Pyhton doesn't support method overloading traditionally but you can do it by using default argument and variable arguments\n\nclass Numbers:\n    def  add(self, *args):\n        return sum(args)\n\n\nP= Numbers()\nprint(P.add(12,30))       #o/p 42\nprint(P.add(14,12))     #o/p 26\n",
      "metadata": {
        "trusted": true
      },
      "outputs": [],
      "execution_count": null
    },
    {
      "cell_type": "code",
      "source": "#Q5 . What are the three types of access modifiers in Python? How are they denoted?\n\n# Ans: In Python, access modifiers control the accessibility of class attributes and methods. The three types are:\n\nPublic: Accessible from anywhere. Denoted without any prefix.\n\nclass MyClass:\n    def __init__(self):\n        self.public_var = \"Public\"\nProtected : It is a access modifier accessible with the class and in subclasess. It is denoted by single undersocre.\n\n    class MyClass:\n    def __init__(self):\n        self._protected_var = \"Protected\"\nPrivate: It is a access modifier accessible only within . Denoted with a double underscore __\n\nclass MyClass:\n    def __init__(self):\n        self.__private_var = \"Private\"\n",
      "metadata": {
        "trusted": true
      },
      "outputs": [],
      "execution_count": null
    },
    {
      "cell_type": "code",
      "source": "\n#Q6  Describe the five types of inheritance in Python. Provide a simple example of multiple inheritance.\n\n# Ans: In Python, the five types of inheritance are:\n\n1.Single Inheritance: A subclass inherits from one parent class.\n2.Multiple Inheritance: A subclass inherits from multiple parent classes.\n3.Multilevel Inheritance: A subclass inherits from a class that is also a subclass.\n    \n4.Hierarchical Inheritance: Multiple subclasses inherit from the same parent class.\n\n5.Hybrid Inheritance: A combination of two or more types of inheritance.\n\n    Example of Multiple Inheritance: \nclass Parent1:\n    def Method1(self):\n        print(\"Parent1 method\")\n\nclass Parent2:\n    def Method2(self):\n        print(\"Parent2 method\")\n\nclass Child(Parent1, Parent2):\n    def Method3(self):\n        print(\"Child method\")\n\n# Example usage\nobj = Child()\nobj.Method1()  # Inherited from Parent1\nobj.Method2()  # Inherited from Parent2\nobj.Method3()  # Defined in Child\n",
      "metadata": {
        "trusted": true
      },
      "outputs": [],
      "execution_count": null
    },
    {
      "cell_type": "code",
      "source": "\n#Q7 What is the Method Resolution Order (MRO) in Python? How can you retrieve it programmatically?\n\n#Ans :  Method Resolution Order  in Python is the order in which Python looks for methods in a class hierarchy when a method is called. \nincase of multiple inheritence MRO defines the order in which parent class are checked \n\nWe can use mro() method to retrive it programmatically\nclass A:\n    pass\n\nclass B(A):\n    pass\n\nclass C(B):\n    pass\n\nprint(C.mro())  \nprint(C.__mro__)  \n",
      "metadata": {
        "trusted": true
      },
      "outputs": [],
      "execution_count": null
    },
    {
      "cell_type": "code",
      "source": "#Q8 Create an abstract base class `Shape` with an abstract method `area()`. Then create two subclasses `Circle` and `Rectangle` that implement the `area()` method.\n\nAns:Below example demonstrate the code:\n\n# Abstract Base Class\nclass Shape(ABC):\n    @abstractmethod ---> Annotation to define abstract method\n    def area(self):\n        pass\n\n\nclass Circle(Shape):\n    def __init__(self, radius):\n        self.radius = radius\n    \n    def area(self):\n        return math.pi * self.radius ** 2\n\n\nclass Rectangle(Shape):\n    def __init__(self, width, height):\n        self.width = width\n        self.height = height\n    \n    def area(self):\n        return self.width * self.height\n\ncircle = Circle(5)\nrectangle = Rectangle(4, 6)\n\nprint(\"Circle area:\", circle.area())\nprint(\"Rectangle area:\", rectangle.area())\n",
      "metadata": {
        "trusted": true
      },
      "outputs": [],
      "execution_count": null
    },
    {
      "cell_type": "code",
      "source": "\n\n#Q9  Demonstrate polymorphism by creating a function that can work with different shape objects to calculate and print their areas. \n\nAns : def print_area(shape):\n    print(f\"The area is: {shape.area()}\")\n\n# Polymorphism in action\ncircle = Circle(5)\nrectangle = Rectangle(4, 6)\n\nprint_area(circle)     # Calls Circle's area method\nprint_area(rectangle)  # Calls Rectangle's area method\n",
      "metadata": {
        "trusted": true
      },
      "outputs": [],
      "execution_count": null
    },
    {
      "cell_type": "code",
      "source": "\n\n#Q10  Implement encapsulation in a `BankAccount` class with private attributes for `balance` and `account_number`. Include methods for deposit, withdrawal, and balance inquiry.\n\n# Ans: \nclass BankAccount:\n    def __init__(self, account_number):\n        self._account_number = account_number\n        self._balance = 0.0\n\n    def deposit(self, amount):\n        if amount > 0:\n            self._balance += amount\n            print(f\"Deposited ${amount:.2f}. New balance: ${self._balance:.2f}\")\n        else:\n            print(\"Invalid deposit amount. Please provide a positive value.\")\n\n    def withdraw(self, amount):\n        if amount > 0 and amount <= self._balance:\n            self._balance -= amount\n            print(f\"Withdrew ${amount:.2f}. New balance: ${self._balance:.2f}\")\n        else:\n            print(\"Insufficient funds or invalid withdrawal amount.\")\n\n    def get_balance(self):\n        \"\"\"Get the current account balance.\"\"\"\n        return self._balance\n\n    def get_account_number(self):\n        \"\"\"Get the account number (for demonstration purposes).\"\"\"\n        return self._account_number\n\n\nif __name__ == \"__main__\":\n    my_account = BankAccount(account_number=\"123456789\")\n    my_account.deposit(1000)\n    my_account.withdraw(200)\n    print(f\"Account balance: ${my_account.get_balance()}\")\n    print(f\"Account number: {my_account.get_account_number()}\")\n",
      "metadata": {
        "trusted": true
      },
      "outputs": [
        {
          "name": "stdout",
          "text": "Deposited $1000.00. New balance: $1000.00\nWithdrew $200.00. New balance: $800.00\nAccount balance: $800.0\nAccount number: 123456789\n",
          "output_type": "stream"
        }
      ],
      "execution_count": 3
    },
    {
      "cell_type": "code",
      "source": "\n#Q11  Write a class that overrides the `__str__` and `__add__` magic methods. What will these methods allow you to do?\n\n# Ans:\n#  The __Str__ and __add__ method allows us to cusotmize the string representation of objects\n\n# for example create a custom class and add both the methods\n\nclass CustomClass:\n    def __init__(self, value):\n        self.value = value\n    \n    def __str__(self):\n        return f\"CustomClass with value: {self.value}\"\n    \n    def __add__(self, other):\n        return CustomClass(self.value + other.value)\n\nobj1 = CustomClass(10)\nobj2 = CustomClass(20)\nprint(obj1)            # Outputs: : 10\nresult = obj1 + obj2   \nprint(result)          # Outputs: : 30\n",
      "metadata": {
        "trusted": true
      },
      "outputs": [
        {
          "name": "stdout",
          "text": "CustomClass with value: 10\nCustomClass with value: 30\n",
          "output_type": "stream"
        }
      ],
      "execution_count": 15
    },
    {
      "cell_type": "code",
      "source": "# Q12 . Create a decorator that measures and prints the execution time of a function.\n\n# Ans: \nimport time\n\ndef measure_time(func):\n    def wrapper(*args, **kwargs):\n        start_time = time.time()\n        result = func(*args, **kwargs)\n        end_time = time.time()\n        execution_time = end_time - start_time\n        print(f\"Execution time: {execution_time:.2f} seconds\")\n        return result\n    return wrapper\n\ndef my_function():\n    time.sleep(2)\n\nmy_function()  # This will print: Execution time: 2.00\n",
      "metadata": {
        "trusted": true
      },
      "outputs": [],
      "execution_count": 21
    },
    {
      "cell_type": "code",
      "source": "#Q13  Explain the concept of the Diamond Problem in multiple inheritance. How does Python resolve it?\n\nAns : Diamond problem will lead to MRO method resolution order. i.e which method to inherit if both parent classes have a method with the same name.\n\nIssue is resolved with C3 linearization MRO. Python follows a specific order when looking for methods, ensuring each class is called only once and respecting the inheritance hierarchy.",
      "metadata": {
        "trusted": true
      },
      "outputs": [],
      "execution_count": null
    },
    {
      "cell_type": "code",
      "source": "#Q14  Write a class method that keeps track of the number of instances created from a class.\n\n#Ans \n\nclass MyClass:\n    instance_count = 0  # Class variable\n    \n    def __init__(self):\n        MyClass.instance_count += 1\n    \n    @classmethod\n    def get_instancevalue_count(cls):\n        return cls.instance_count  \n\n\nobj1 = MyClass()\nobj2 = MyClass()\nobj3 = MyClass()\n\nprint(MyClass.get_instancevalue_count()) \n",
      "metadata": {
        "trusted": true
      },
      "outputs": [
        {
          "name": "stdout",
          "text": "3\n",
          "output_type": "stream"
        }
      ],
      "execution_count": 3
    },
    {
      "cell_type": "code",
      "source": "#Q15 Implement a static method in a class that checks if a given year is a leap year.\n\n# Ans \n\nclass YearCheck:\n    @staticmethod\n    def is_leap_year(year):\n        return year % 4 == 0 and (year % 100 != 0 or year % 400 == 0)\n\n# Example usage\nprint(YearCheck.is_leap_year(2024))\nprint(YearCheck.is_leap_year(2023))  \n",
      "metadata": {
        "trusted": true
      },
      "outputs": [
        {
          "name": "stdout",
          "text": "True\nFalse\n",
          "output_type": "stream"
        }
      ],
      "execution_count": 4
    }
  ]
}