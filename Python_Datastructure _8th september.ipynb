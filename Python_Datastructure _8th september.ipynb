{
 "cells": [
  {
   "cell_type": "code",
   "execution_count": null,
   "id": "02216d0b-8752-41d5-b096-615b42130bf2",
   "metadata": {},
   "outputs": [],
   "source": [
    "#Q1 Discuss string slicing and provide examples\n",
    "\n",
    "Ans:String slicing allows to extract a part of substring specifying the indices.The General Syntax Used is :\n",
    "    \n",
    "    string[start:end:step]\n",
    "    \n",
    "start: The index to begin the slice \n",
    "end: The index to end the slice \n",
    "step: The number of steps to jump while slicing (optional).\n",
    "\n",
    "s = \"Hello, World!\"\n",
    "print(s[0:5])  # Output: 'Hello'\n",
    "omitting start or end\n",
    "print(s[:5])   # Output: 'Hello' (from start to index 5)\n",
    "print(s[7:])    # Output: 'World!' (from index 7 to end)\n",
    "\n",
    "Negative Indices\n",
    "\n",
    "print(s[-6:])  # Output: 'World!' (last 6 characters)\n",
    "\n",
    "Step Slicing:\n",
    "print(s[::2])  # Output: 'Hlo ol!'\n"
   ]
  },
  {
   "cell_type": "code",
   "execution_count": null,
   "id": "57429988-45af-4203-873e-9080469bdb20",
   "metadata": {},
   "outputs": [],
   "source": [
    "#Q2 Explain the key features of lists in Python.\n",
    "\n",
    "Ans: Key features of lists in Python:\n",
    "\n",
    "Ordered: Lists maintain the order of elements, meaning the first element stays first, and so on\n",
    "\n",
    "list = [10, 20, 30]  # Order is preserved\n",
    "\n",
    "Mutable: You can change elements after creation (add, modify, remove).\n",
    "\n",
    "List[1] = 25  # Modify second element\n",
    "\n",
    "Heterogeneous elements: Lists can store different data types in the same list.\n",
    "my_list = [1, \"hello\", 3.14]  # Integer, string, float\n",
    "\n",
    "Dynamic size: Lists can grow or shrink in size dynamically.\n",
    "list.append(40)  # Adds element to the list\n"
   ]
  },
  {
   "cell_type": "code",
   "execution_count": 3,
   "id": "8fcdc59c-b7b6-48ed-ba92-8f5a76749381",
   "metadata": {},
   "outputs": [
    {
     "name": "stdout",
     "output_type": "stream",
     "text": [
      "2\n"
     ]
    }
   ],
   "source": [
    "#Q3 Describe how to access, modify, and delete elements in a list with examples\n",
    "\n",
    "#Ans: Access Elements in a list:\n",
    "list =[1,2,3,4.5]\n",
    "print(list[1])\n",
    "    "
   ]
  },
  {
   "cell_type": "code",
   "execution_count": 5,
   "id": "711a16c1-081d-42f5-afc9-77461732b4b0",
   "metadata": {},
   "outputs": [
    {
     "name": "stdout",
     "output_type": "stream",
     "text": [
      "[1, 2, 34, 4.5]\n"
     ]
    }
   ],
   "source": [
    "#Modify elements in a list is by assigning a new value to thenlist\n",
    "list =[1,2,3,4.5]\n",
    "list[2] = 34\n",
    "print(list)"
   ]
  },
  {
   "cell_type": "code",
   "execution_count": 6,
   "id": "4da01099-648e-4fb5-9efc-d5925d8c2704",
   "metadata": {},
   "outputs": [
    {
     "name": "stdout",
     "output_type": "stream",
     "text": [
      "[1, 34, 4.5]\n",
      "[1, 4.5]\n",
      "1\n"
     ]
    }
   ],
   "source": [
    "#Delete Elements in a list \n",
    "\n",
    "#1.Using del: Deletes an element by its index.\n",
    "del list[1]\n",
    "print(list)\n",
    "\n",
    "#Remove() method\n",
    "list.remove(34)\n",
    "print(list) \n",
    "\n",
    "#Pop method\n",
    "\n",
    "popped_value = list.pop(0)\n",
    "print(popped_value)  \n",
    "\n",
    "\n"
   ]
  },
  {
   "cell_type": "code",
   "execution_count": null,
   "id": "0ac9cfcb-af57-40e9-8f3a-c322d0abe873",
   "metadata": {},
   "outputs": [],
   "source": [
    "#Q3 Compare and contrast tuples and lists with examples\n",
    "\n",
    "Ans: Tuples and Lists in Python are both used to store collections of items, Key differences in them are \n",
    "\n",
    "Mutability:\n",
    "List are mutable Objects\n",
    "Tuple are immutable.\n",
    "\n",
    "my_list = [2,34,56]\n",
    "my_list[0] = 10  # Modifying the first element\n",
    "print(my_list)    # Output: [10, 2, 3]\n",
    "\n",
    "my_tuple = (2,34,56)\n",
    "my_tuple[0] = 10  # This will raise an error\n",
    "\n",
    "Performance:\n",
    "List: Slightly slower due to mutability (additional memory management).\n",
    "Tuple: Faster due to immutability, making them a better choice for fixed collections.\n",
    "\n",
    "Methods:\n",
    "List: Many built-in methods like append(), remove(), pop(), etc.\n",
    "Tuple: Fewer methods due to immutability, mostly count() and index()\n",
    "\n",
    "\n",
    "# List example\n",
    "my_list = [2,3,4]\n",
    "my_list.append(5)  # Output: [2, 3, 4, 5]\n",
    "\n",
    "# Tuple example\n",
    "my_tuple = (3,4,5)\n",
    "# my_tuple.append(4)  # This will raise an error since tuples are immutable\n"
   ]
  },
  {
   "cell_type": "code",
   "execution_count": null,
   "id": "12034cab-13b8-4c02-b25c-d1186e4b1551",
   "metadata": {},
   "outputs": [],
   "source": [
    "#Q5 Describe the key features of sets and provide examples of their use\n",
    "\n",
    "Ans: Some key differences are:\n",
    "    \n",
    "Unordered: Sets do not maintain any order of elements.\n",
    "Ex:\n",
    "\n",
    "X_set = {3, 1, 2}\n",
    "print(X_set)  # Output: {1, 2, 3} (order may vary)\n",
    "\n",
    "Unique Elements: Sets automatically remove duplicates.\n",
    "\n",
    "my_set = {1, 2, 2, 3}\n",
    "print(my_set)  # Output: {1, 2, 3}\n",
    "\n",
    "Mutable: You can add or remove elements after creation.\n",
    "\n",
    "our_set = {1, 2, 3}\n",
    "our_set.add(4)\n",
    "print(our_set)  # Output: {1, 2, 3, 4}\n",
    "\n"
   ]
  },
  {
   "cell_type": "code",
   "execution_count": null,
   "id": "b0b36349-6863-43cf-b3b5-deb4eb4a62cf",
   "metadata": {},
   "outputs": [],
   "source": [
    "#Q6 Discuss the use cases of tuples and sets in Python programming\n",
    "\n",
    "Ans: Use cases of tuples in python are:\n",
    "\n",
    "Immutable: Tuples are used when there is no need for data change\n",
    "Storing configuration like (\"Localhostname\", 4444)\n",
    "\n",
    "Heterogeneous Data: Tuples are used for storing mixed data types.\n",
    "\n",
    "Example: person = (\"Alex\", 25, \"Engineer\").\n",
    "\n",
    "Return Multiple Values: It can be used to  return multiple values from a function.\n",
    "\n",
    "Example: def get_user():\n",
    "    return (\"Alex\", 25)\n",
    "name, age = get_user()\n",
    "\n",
    "Use Cases of Sets in Python:\n",
    "    \n",
    "1.Unique Elements: Sets are useful when you need a collection of unique items (no duplicates).\n",
    "\n",
    "Example: unique_names = {\"cooper\", \"Alex\", \"Bob\"}.\n",
    "\n",
    "2.Membership Testing: Sets used for membership tests (checking if an element exists).\n",
    "\n",
    "Example: if \"Alex\" in unique_names:.\n"
   ]
  },
  {
   "cell_type": "code",
   "execution_count": 9,
   "id": "7c469c62-4d3a-4de3-b570-865493fc4fbb",
   "metadata": {},
   "outputs": [
    {
     "name": "stdout",
     "output_type": "stream",
     "text": [
      "john\n",
      "25\n",
      "painting\n",
      "None\n"
     ]
    },
    {
     "ename": "KeyError",
     "evalue": "'Occupation'",
     "output_type": "error",
     "traceback": [
      "\u001b[0;31m---------------------------------------------------------------------------\u001b[0m",
      "\u001b[0;31mKeyError\u001b[0m                                  Traceback (most recent call last)",
      "Cell \u001b[0;32mIn[9], line 22\u001b[0m\n\u001b[1;32m     19\u001b[0m \u001b[38;5;28mprint\u001b[39m(my_dict\u001b[38;5;241m.\u001b[39mget(\u001b[38;5;124m'\u001b[39m\u001b[38;5;124mSalary\u001b[39m\u001b[38;5;124m'\u001b[39m))\n\u001b[1;32m     21\u001b[0m \u001b[38;5;66;03m# error raised when key not found\u001b[39;00m\n\u001b[0;32m---> 22\u001b[0m \u001b[38;5;28mprint\u001b[39m(\u001b[43mmy_dict\u001b[49m\u001b[43m[\u001b[49m\u001b[38;5;124;43m'\u001b[39;49m\u001b[38;5;124;43mOccupation\u001b[39;49m\u001b[38;5;124;43m'\u001b[39;49m\u001b[43m]\u001b[49m)\n\u001b[1;32m     24\u001b[0m \u001b[38;5;66;03m#Modify element in a dictionary\u001b[39;00m\n\u001b[1;32m     25\u001b[0m \n\u001b[1;32m     26\u001b[0m \n\u001b[1;32m     27\u001b[0m \u001b[38;5;66;03m# Python program to update/add elements in a dictionary\u001b[39;00m\n\u001b[1;32m     28\u001b[0m Our_dict \u001b[38;5;241m=\u001b[39m {\u001b[38;5;124m'\u001b[39m\u001b[38;5;124mcar\u001b[39m\u001b[38;5;124m'\u001b[39m: \u001b[38;5;124m'\u001b[39m\u001b[38;5;124mBMW\u001b[39m\u001b[38;5;124m'\u001b[39m, \u001b[38;5;124m'\u001b[39m\u001b[38;5;124mBike\u001b[39m\u001b[38;5;124m'\u001b[39m: \u001b[38;5;124m'\u001b[39m\u001b[38;5;124mKawasaki\u001b[39m\u001b[38;5;124m'\u001b[39m}\n",
      "\u001b[0;31mKeyError\u001b[0m: 'Occupation'"
     ]
    }
   ],
   "source": [
    "#Q7 Describe how to add, modify, and delete items in a dictionary with examples\n",
    "\n",
    "#Ans: Access an element in a dictionary\n",
    "\n",
    "my_dict = {'Name': 'Sean', 'Age': 24, 'Hobby': 'Dancing', 'City': 'NY'}\n",
    "\n",
    "\n",
    "# Python program to access elements from a dictionary\n",
    "my_dict = {'Name': 'john', 'Age': 25, 'Hobby': 'painting', 'City': 'NY'}\n",
    "\n",
    "# using square brackets\n",
    "print(my_dict['Name'])\n",
    "print(my_dict['Age'])\n",
    "\n",
    "# using get() method\n",
    "print(my_dict.get('Hobby'))\n",
    "\n",
    "# key not found\n",
    "print(my_dict.get('Salary'))\n",
    "\n",
    "# error raised when key not found\n",
    "print(my_dict['Occupation'])\n"
   ]
  },
  {
   "cell_type": "code",
   "execution_count": 12,
   "id": "890613ce-69a9-4432-8c5b-f459e438bf01",
   "metadata": {},
   "outputs": [
    {
     "name": "stdout",
     "output_type": "stream",
     "text": [
      "Original Dictionary: {'car': 'BMW', 'Bike': 'Kawasaki'}\n",
      "Updated Dictionary: {'car': 'BMW', 'Bike': 'Ducati'}\n",
      "Updated Dictionary: {'car': 'BMW', 'Bike': 'Ducati', 'Plane': 'Boeing'}\n"
     ]
    }
   ],
   "source": [
    "#Modify element in a dictionary\n",
    "# Python program to update/add elements in a dictionary\n",
    "our_dict = {'car': 'BMW', 'Bike': 'Kawasaki'}\n",
    "print('Original Dictionary:', our_dict)\n",
    "\n",
    "# updating value of an existing key\n",
    "our_dict['Bike'] = 'Ducati'\n",
    "print('Updated Dictionary:', our_dict)\n",
    "\n",
    "# adding new value\n",
    "our_dict['Plane'] = 'Boeing'\n",
    "print('Updated Dictionary:', our_dict)"
   ]
  },
  {
   "cell_type": "code",
   "execution_count": 13,
   "id": "d0e80122-b7a9-46fe-a7e7-5480e8a5eb0e",
   "metadata": {},
   "outputs": [
    {
     "name": "stdout",
     "output_type": "stream",
     "text": [
      "Original Dictionary: {1: 'One', 2: 'Two', 3: 'Three', 4: 'Four', 5: 'Five'}\n",
      "Four\n",
      "Updated Dictionary: {1: 'One', 2: 'Two', 3: 'Three', 5: 'Five'}\n",
      "(5, 'Five')\n",
      "Updated Dictionary: {1: 'One', 2: 'Two', 3: 'Three'}\n",
      "{}\n"
     ]
    },
    {
     "ename": "NameError",
     "evalue": "name 'my_dict' is not defined",
     "output_type": "error",
     "traceback": [
      "\u001b[0;31m---------------------------------------------------------------------------\u001b[0m",
      "\u001b[0;31mNameError\u001b[0m                                 Traceback (most recent call last)",
      "Cell \u001b[0;32mIn[13], line 19\u001b[0m\n\u001b[1;32m     17\u001b[0m \u001b[38;5;66;03m# delete the dictionary itself\u001b[39;00m\n\u001b[1;32m     18\u001b[0m \u001b[38;5;28;01mdel\u001b[39;00m my_dict\n\u001b[0;32m---> 19\u001b[0m \u001b[38;5;28mprint\u001b[39m(\u001b[43mmy_dict\u001b[49m)\n",
      "\u001b[0;31mNameError\u001b[0m: name 'my_dict' is not defined"
     ]
    }
   ],
   "source": [
    "# Python program to remove/delete elements from a dictionary\n",
    "my_dict = {1: 'One', 2: 'Two', 3: 'Three', 4: 'Four', 5: 'Five'}\n",
    "print('Original Dictionary:', my_dict)\n",
    "\n",
    "# removing single element\n",
    "print(my_dict.pop(4))\n",
    "print('Updated Dictionary:', my_dict)\n",
    "\n",
    "# adding new value\n",
    "print(my_dict.popitem())\n",
    "print('Updated Dictionary:', my_dict)\n",
    "\n",
    "# remove all items\n",
    "my_dict.clear()\n",
    "print(my_dict)\n",
    "\n",
    "# delete the dictionary itself and access it throws error.\n",
    "del my_dict\n",
    "print(my_dict)"
   ]
  },
  {
   "cell_type": "code",
   "execution_count": 14,
   "id": "9845ef56-7a95-4d22-92f2-d527f92a170a",
   "metadata": {},
   "outputs": [
    {
     "ename": "TypeError",
     "evalue": "unhashable type: 'list'",
     "output_type": "error",
     "traceback": [
      "\u001b[0;31m---------------------------------------------------------------------------\u001b[0m",
      "\u001b[0;31mTypeError\u001b[0m                                 Traceback (most recent call last)",
      "Cell \u001b[0;32mIn[14], line 5\u001b[0m\n\u001b[1;32m      1\u001b[0m \u001b[38;5;66;03m#Q8 Discuss the importance of dictionary keys being immutable and provide examples.\u001b[39;00m\n\u001b[1;32m      2\u001b[0m \n\u001b[1;32m      3\u001b[0m \u001b[38;5;66;03m#Ans : Dictionary keys must be immutable and the below examples states the reason why\u001b[39;00m\n\u001b[0;32m----> 5\u001b[0m mydict \u001b[38;5;241m=\u001b[39m { [\u001b[38;5;241m1\u001b[39m, \u001b[38;5;241m2\u001b[39m]: \u001b[38;5;124m'\u001b[39m\u001b[38;5;124m12\u001b[39m\u001b[38;5;124m'\u001b[39m }\n\u001b[1;32m      6\u001b[0m \u001b[38;5;28mprint\u001b[39m(mydict[[\u001b[38;5;241m1\u001b[39m, \u001b[38;5;241m2\u001b[39m]])\n\u001b[1;32m      7\u001b[0m \u001b[38;5;66;03m# Output: TypeError: unhashable type: 'list'\u001b[39;00m\n",
      "\u001b[0;31mTypeError\u001b[0m: unhashable type: 'list'"
     ]
    }
   ],
   "source": [
    "#Q8 Discuss the importance of dictionary keys being immutable and provide examples.\n",
    "\n",
    "#Ans : Dictionary keys must be immutable and the below examples states the reason why\n",
    "Example:\n",
    "mydict = { [1, 2]: '12' }\n",
    "print(mydict[[1, 2]])\n",
    "# Output: TypeError: unhashable type: 'list'.\n",
    "not found"
   ]
  },
  {
   "cell_type": "code",
   "execution_count": null,
   "id": "ff838d9f-b327-442c-855e-5b6ea0869897",
   "metadata": {},
   "outputs": [],
   "source": [
    "reason : It simply means that the Python interpreter is not able to generate a hash for the key given in the dictionary, whose data type is a list.\n",
    "Because Python list is a mutable data type, which means it can be modified during runtime, that's why it is not used as a key in a dictionary.\n",
    "Imagine if we can change the list (dictionary key) in runtime, and if dictionary key changes then how can you retrieve its values because its hash value is not valid now.\n",
    "We can use string, number, tuple as a key in Python dictionary because it can not be modified."
   ]
  }
 ],
 "metadata": {
  "kernelspec": {
   "display_name": "Python 3 (ipykernel)",
   "language": "python",
   "name": "python3"
  },
  "language_info": {
   "codemirror_mode": {
    "name": "ipython",
    "version": 3
   },
   "file_extension": ".py",
   "mimetype": "text/x-python",
   "name": "python",
   "nbconvert_exporter": "python",
   "pygments_lexer": "ipython3",
   "version": "3.10.8"
  }
 },
 "nbformat": 4,
 "nbformat_minor": 5
}
